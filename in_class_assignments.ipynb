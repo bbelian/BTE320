{
  "nbformat": 4,
  "nbformat_minor": 0,
  "metadata": {
    "colab": {
      "provenance": [],
      "authorship_tag": "ABX9TyME/gSjgD0Cidi9Um7aVG1H",
      "include_colab_link": true
    },
    "kernelspec": {
      "name": "python3",
      "display_name": "Python 3"
    },
    "language_info": {
      "name": "python"
    }
  },
  "cells": [
    {
      "cell_type": "markdown",
      "metadata": {
        "id": "view-in-github",
        "colab_type": "text"
      },
      "source": [
        "<a href=\"https://colab.research.google.com/github/bbelian/BTE320/blob/main/in_class_assignments.ipynb\" target=\"_parent\"><img src=\"https://colab.research.google.com/assets/colab-badge.svg\" alt=\"Open In Colab\"/></a>"
      ]
    },
    {
      "cell_type": "markdown",
      "source": [
        "# **Area of a Cylinder Program**"
      ],
      "metadata": {
        "id": "WEhe37C9rh9E"
      }
    },
    {
      "cell_type": "code",
      "execution_count": null,
      "metadata": {
        "colab": {
          "base_uri": "https://localhost:8080/"
        },
        "id": "9wgjfRYko8d2",
        "outputId": "8dd3b60b-fa15-4fec-cf36-0f7d0430b3fd"
      },
      "outputs": [
        {
          "output_type": "stream",
          "name": "stdout",
          "text": [
            "Please input your radius: 4\n",
            "Please input your height: 3\n",
            "The area of the cylinder is 175.84 sq. ft\n"
          ]
        }
      ],
      "source": [
        "pi = 3.14\n",
        "radius = int(input(\"Please input your radius: \"))\n",
        "height = int(input(\"Please input your height: \"))\n",
        "area = ((2*pi*radius**2) + (2 * pi * radius * height))\n",
        "print (f\"The area of the cylinder is {area} sq. ft\")"
      ]
    },
    {
      "cell_type": "markdown",
      "source": [
        "# **Math Program**"
      ],
      "metadata": {
        "id": "WvxIzAVkr8EP"
      }
    },
    {
      "cell_type": "code",
      "source": [
        "number1 = float(input(\"Please input your first number: \"))\n",
        "number2 = float(input(\"Please input your second number: \"))\n",
        "operation = input(\"Please input your operation: \")\n",
        "\n",
        "if operation == \"+\":\n",
        "  print(number1 + number2)\n",
        "elif operation == \"-\":\n",
        "  print(number1 - number2)\n",
        "elif operation == \"*\":\n",
        "  print(number1 * number2)\n",
        "elif operation == \"/\":\n",
        "  print(number1 / number2)\n",
        "elif operation == \"//\":\n",
        "  print(number1 // number2)\n",
        "elif operation == \"%\":\n",
        "  print(number1 % number2)\n",
        "elif operation == \"**\":\n",
        "  print(number1 ** number2)\n",
        "else:\n",
        "  print(\"Invalid input\")"
      ],
      "metadata": {
        "colab": {
          "base_uri": "https://localhost:8080/"
        },
        "id": "CVxst9XzsLmE",
        "outputId": "b0588417-eab8-4395-8c69-2d0962ff2831"
      },
      "execution_count": null,
      "outputs": [
        {
          "output_type": "stream",
          "name": "stdout",
          "text": [
            "Please input your first number: 7\n",
            "Please input your second number: 3\n",
            "Please input your operation: %\n",
            "1\n"
          ]
        }
      ]
    },
    {
      "cell_type": "markdown",
      "source": [
        "# **Car Parking**"
      ],
      "metadata": {
        "id": "3YoNR2iwXt2m"
      }
    },
    {
      "cell_type": "code",
      "source": [
        "for number in range(1,9,1):\n",
        "    fee = float(5 + number * 2.50)\n",
        "    if fee < 10:\n",
        "      print (number, 10.0)\n",
        "    elif fee > 20:\n",
        "      print (number, 20.0)\n",
        "    else:\n",
        "      print (number, fee)"
      ],
      "metadata": {
        "colab": {
          "base_uri": "https://localhost:8080/"
        },
        "id": "c-Uep8gTX1OG",
        "outputId": "f9d5154d-64a1-45aa-ee8f-cb75c65a2d85"
      },
      "execution_count": null,
      "outputs": [
        {
          "output_type": "stream",
          "name": "stdout",
          "text": [
            "1 10.0\n",
            "2 10.0\n",
            "3 12.5\n",
            "4 15.0\n",
            "5 17.5\n",
            "6 20.0\n",
            "7 20.0\n",
            "8 20.0\n"
          ]
        }
      ]
    },
    {
      "cell_type": "markdown",
      "source": [
        "# **Movie Theater Problem**"
      ],
      "metadata": {
        "id": "eLtfFVKRdN64"
      }
    },
    {
      "cell_type": "code",
      "source": [
        "print(\"Ad$\",\"Profit\")\n",
        "for adAmount in range(0, 201, 25):\n",
        "  addAttendees = 20 + (2 * round((adAmount)**0.5))\n",
        "  profit = float((10*addAttendees) - adAmount - 200)\n",
        "  print (adAmount, profit)"
      ],
      "metadata": {
        "colab": {
          "base_uri": "https://localhost:8080/"
        },
        "id": "PNYAuOz-dS5q",
        "outputId": "e5719d63-3b06-4e88-d6fc-8d7693c811f2"
      },
      "execution_count": null,
      "outputs": [
        {
          "output_type": "stream",
          "name": "stdout",
          "text": [
            "Ad$ Profit\n",
            "0 0.0\n",
            "25 75.0\n",
            "50 90.0\n",
            "75 105.0\n",
            "100 100.0\n",
            "125 95.0\n",
            "150 90.0\n",
            "175 85.0\n",
            "200 80.0\n"
          ]
        }
      ]
    },
    {
      "cell_type": "markdown",
      "source": [
        "# **Rock, Paper, Scissors Game**"
      ],
      "metadata": {
        "id": "Y-KnzeCIHmtc"
      }
    },
    {
      "cell_type": "code",
      "source": [
        "initialQuestion = input(\"Would you like to play Rock, Paper, Scissors? Please type Yes or No: \")\n",
        "\n",
        "while initialQuestion == \"Yes\":\n",
        "  firstPlayer = input(\"Player 1, Please choose Rock, Paper, or Scissors: \")\n",
        "  secondPlayer = input(\"Player 2, Please choose Rock, Paper, or Scissors: \")\n",
        "\n",
        "  if firstPlayer == secondPlayer:\n",
        "    print(\"It's a tie!\")\n",
        "  elif ((firstPlayer == \"Rock\" and secondPlayer == \"Scissors\") or\n",
        "        (firstPlayer == \"Paper\" and secondPlayer == \"Rock\") or\n",
        "        (firstPlayer == \"Scissors\" and secondPlayer == \"Paper\")\n",
        "        ):\n",
        "    print(\"Player 1 wins!\")\n",
        "  else:\n",
        "    print(\"Player 2 wins!\")\n",
        "\n",
        "  initialQuestion = input(\"Would you like to play another game of Rock, Paper, Scissors? Please type Yes or No: \")\n",
        "\n",
        "print(\"Goodbye\")\n",
        "\n",
        "\n",
        "\n",
        "\n"
      ],
      "metadata": {
        "id": "bdzkj2i8HxXB"
      },
      "execution_count": null,
      "outputs": []
    },
    {
      "cell_type": "code",
      "source": [],
      "metadata": {
        "id": "2nncivM_ROVY"
      },
      "execution_count": null,
      "outputs": []
    }
  ]
}
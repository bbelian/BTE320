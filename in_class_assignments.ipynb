{
  "nbformat": 4,
  "nbformat_minor": 0,
  "metadata": {
    "colab": {
      "provenance": [],
      "authorship_tag": "ABX9TyMgawUnpaefGiDBL/41DTGG",
      "include_colab_link": true
    },
    "kernelspec": {
      "name": "python3",
      "display_name": "Python 3"
    },
    "language_info": {
      "name": "python"
    }
  },
  "cells": [
    {
      "cell_type": "markdown",
      "metadata": {
        "id": "view-in-github",
        "colab_type": "text"
      },
      "source": [
        "<a href=\"https://colab.research.google.com/github/bbelian/BTE320/blob/main/in_class_assignments.ipynb\" target=\"_parent\"><img src=\"https://colab.research.google.com/assets/colab-badge.svg\" alt=\"Open In Colab\"/></a>"
      ]
    },
    {
      "cell_type": "markdown",
      "source": [
        "# **Cylinder area calculator**"
      ],
      "metadata": {
        "id": "WEhe37C9rh9E"
      }
    },
    {
      "cell_type": "code",
      "execution_count": null,
      "metadata": {
        "colab": {
          "base_uri": "https://localhost:8080/"
        },
        "id": "9wgjfRYko8d2",
        "outputId": "8dd3b60b-fa15-4fec-cf36-0f7d0430b3fd"
      },
      "outputs": [
        {
          "output_type": "stream",
          "name": "stdout",
          "text": [
            "Please input your radius: 4\n",
            "Please input your height: 3\n",
            "The area of the cylinder is 175.84 sq. ft\n"
          ]
        }
      ],
      "source": [
        "pi = 3.14\n",
        "radius = int(input(\"Please input your radius: \"))\n",
        "height = int(input(\"Please input your height: \"))\n",
        "area = ((2*pi*radius**2) + (2 * pi * radius * height))\n",
        "print (f\"The area of the cylinder is {area} sq. ft\")"
      ]
    },
    {
      "cell_type": "markdown",
      "source": [
        "# **Numerical calculator**"
      ],
      "metadata": {
        "id": "WvxIzAVkr8EP"
      }
    },
    {
      "cell_type": "code",
      "source": [
        "number1 = float(input(\"Please input your first number: \"))\n",
        "number2 = float(input(\"Please input your second number: \"))\n",
        "operation = input(\"Please input your operation: \")\n",
        "\n",
        "if operation == \"+\":\n",
        "  print(number1 + number2)\n",
        "elif operation == \"-\":\n",
        "  print(number1 - number2)\n",
        "elif operation == \"*\":\n",
        "  print(number1 * number2)\n",
        "elif operation == \"/\":\n",
        "  print(number1 / number2)\n",
        "elif operation == \"//\":\n",
        "  print(number1 // number2)\n",
        "elif operation == \"%\":\n",
        "  print(number1 % number2)\n",
        "elif operation == \"**\":\n",
        "  print(number1 ** number2)\n",
        "else:\n",
        "  print(\"Invalid input\")"
      ],
      "metadata": {
        "colab": {
          "base_uri": "https://localhost:8080/"
        },
        "id": "CVxst9XzsLmE",
        "outputId": "b0588417-eab8-4395-8c69-2d0962ff2831"
      },
      "execution_count": null,
      "outputs": [
        {
          "output_type": "stream",
          "name": "stdout",
          "text": [
            "Please input your first number: 7\n",
            "Please input your second number: 3\n",
            "Please input your operation: %\n",
            "1\n"
          ]
        }
      ]
    },
    {
      "cell_type": "markdown",
      "source": [
        "# **Parking Garage**"
      ],
      "metadata": {
        "id": "3YoNR2iwXt2m"
      }
    },
    {
      "cell_type": "code",
      "source": [
        "for number in range(1,9,1):\n",
        "    fee = float(5 + number * 2.50)\n",
        "    if fee < 10:\n",
        "      print (number, 10.0)\n",
        "    elif fee > 20:\n",
        "      print (number, 20.0)\n",
        "    else:\n",
        "      print (number, fee)"
      ],
      "metadata": {
        "colab": {
          "base_uri": "https://localhost:8080/"
        },
        "id": "c-Uep8gTX1OG",
        "outputId": "f9d5154d-64a1-45aa-ee8f-cb75c65a2d85"
      },
      "execution_count": null,
      "outputs": [
        {
          "output_type": "stream",
          "name": "stdout",
          "text": [
            "1 10.0\n",
            "2 10.0\n",
            "3 12.5\n",
            "4 15.0\n",
            "5 17.5\n",
            "6 20.0\n",
            "7 20.0\n",
            "8 20.0\n"
          ]
        }
      ]
    },
    {
      "cell_type": "markdown",
      "source": [
        "# **Movie Theater**"
      ],
      "metadata": {
        "id": "eLtfFVKRdN64"
      }
    },
    {
      "cell_type": "code",
      "source": [
        "print(\"Ad$\",\"Profit\")\n",
        "for adAmount in range(0, 201, 25):\n",
        "  addAttendees = 20 + (2 * round((adAmount)**0.5))\n",
        "  profit = float((10*addAttendees) - adAmount - 200)\n",
        "  print (adAmount, profit)"
      ],
      "metadata": {
        "colab": {
          "base_uri": "https://localhost:8080/"
        },
        "id": "PNYAuOz-dS5q",
        "outputId": "e5719d63-3b06-4e88-d6fc-8d7693c811f2"
      },
      "execution_count": null,
      "outputs": [
        {
          "output_type": "stream",
          "name": "stdout",
          "text": [
            "Ad$ Profit\n",
            "0 0.0\n",
            "25 75.0\n",
            "50 90.0\n",
            "75 105.0\n",
            "100 100.0\n",
            "125 95.0\n",
            "150 90.0\n",
            "175 85.0\n",
            "200 80.0\n"
          ]
        }
      ]
    },
    {
      "cell_type": "markdown",
      "source": [
        "# **Rock-Paper-Scissors**"
      ],
      "metadata": {
        "id": "Y-KnzeCIHmtc"
      }
    },
    {
      "cell_type": "code",
      "source": [
        "initialQuestion = input(\"Would you like to play Rock, Paper, Scissors? Please type Yes or No: \")\n",
        "\n",
        "while initialQuestion == \"Yes\":\n",
        "  firstPlayer = input(\"Player 1, Please choose Rock, Paper, or Scissors: \")\n",
        "  secondPlayer = input(\"Player 2, Please choose Rock, Paper, or Scissors: \")\n",
        "\n",
        "  if firstPlayer == secondPlayer:\n",
        "    print(\"It's a tie!\")\n",
        "  elif ((firstPlayer == \"Rock\" and secondPlayer == \"Scissors\") or\n",
        "        (firstPlayer == \"Paper\" and secondPlayer == \"Rock\") or\n",
        "        (firstPlayer == \"Scissors\" and secondPlayer == \"Paper\")\n",
        "        ):\n",
        "    print(\"Player 1 wins!\")\n",
        "  else:\n",
        "    print(\"Player 2 wins!\")\n",
        "\n",
        "  initialQuestion = input(\"Would you like to play another game of Rock, Paper, Scissors? Please type Yes or No: \")\n",
        "\n",
        "print(\"Goodbye\")\n",
        "\n",
        "\n",
        "\n",
        "\n"
      ],
      "metadata": {
        "id": "bdzkj2i8HxXB",
        "colab": {
          "base_uri": "https://localhost:8080/"
        },
        "outputId": "7093fbbb-df93-4942-905f-00e76f1e5637"
      },
      "execution_count": null,
      "outputs": [
        {
          "output_type": "stream",
          "name": "stdout",
          "text": [
            "Would you like to play Rock, Paper, Scissors? Please type Yes or No: Yes\n",
            "Player 1, Please choose Rock, Paper, or Scissors: Rock\n",
            "Player 2, Please choose Rock, Paper, or Scissors: Paper\n",
            "Player 2 wins!\n",
            "Would you like to play another game of Rock, Paper, Scissors? Please type Yes or No: No\n",
            "Goodbye\n"
          ]
        }
      ]
    },
    {
      "cell_type": "markdown",
      "source": [
        "# **Append items to list iteratively**"
      ],
      "metadata": {
        "id": "Ou8KPXFV-8zx"
      }
    },
    {
      "cell_type": "code",
      "source": [
        "lst = []\n",
        "\n",
        "num = float(input(\"Please input a numerical number: \"))\n",
        "while num != 0:\n",
        "  lst.append(num)\n",
        "  num = float(input(\"Please input a numerical number: \"))\n",
        "\n",
        "lst.sort(reverse=True)\n",
        "lst"
      ],
      "metadata": {
        "colab": {
          "base_uri": "https://localhost:8080/"
        },
        "id": "M5toGdyI_B0R",
        "outputId": "b22b18d8-7dae-4461-a14c-395f757ddf62"
      },
      "execution_count": null,
      "outputs": [
        {
          "name": "stdout",
          "output_type": "stream",
          "text": [
            "Please input a numerical number: 5\n",
            "Please input a numerical number: 6\n",
            "Please input a numerical number: 7\n",
            "Please input a numerical number: 8\n",
            "Please input a numerical number: 9\n",
            "Please input a numerical number: 0\n"
          ]
        },
        {
          "output_type": "execute_result",
          "data": {
            "text/plain": [
              "[9.0, 8.0, 7.0, 6.0, 5.0]"
            ]
          },
          "metadata": {},
          "execution_count": 2
        }
      ]
    },
    {
      "cell_type": "markdown",
      "source": [
        "# **Dynamic dictionary of number: month pairs**"
      ],
      "metadata": {
        "id": "XsdZEaP_xouj"
      }
    },
    {
      "cell_type": "code",
      "source": [
        "months = {}\n",
        "\n",
        "names = [\"Jan\", \"Feb\", \"Mar\", \"Apr\", \"May\", \"June\", \"July\", \"Aug\", \"Sept\", \"Oct\", \"Nov\", \"Dec\"]\n",
        "numbers = [1, 2, 3, 4, 5, 6, 7, 8, 9, 10, 11, 12]\n",
        "\n",
        "for idx in range(len(numbers)):\n",
        "  months[numbers[idx]] = names[idx]\n",
        "\n",
        "print(months)"
      ],
      "metadata": {
        "colab": {
          "base_uri": "https://localhost:8080/"
        },
        "id": "Tqurh3tMx_nt",
        "outputId": "af698d57-ab66-4237-e303-e99655ea70d0"
      },
      "execution_count": null,
      "outputs": [
        {
          "output_type": "stream",
          "name": "stdout",
          "text": [
            "{1: 'Jan', 2: 'Feb', 3: 'Mar', 4: 'Apr', 5: 'May', 6: 'June', 7: 'July', 8: 'Aug', 9: 'Sept', 10: 'Oct', 11: 'Nov', 12: 'Dec'}\n"
          ]
        }
      ]
    },
    {
      "cell_type": "markdown",
      "source": [
        "# **Dynamic dictionary; 5 distinct key: value pairs**"
      ],
      "metadata": {
        "id": "hUp8xU-s4BSI"
      }
    },
    {
      "cell_type": "code",
      "source": [
        "counts = {}\n",
        "word = input(\"Please input a word:\")\n",
        "\n",
        "while len(counts) < 5:\n",
        "  if word in counts:\n",
        "    counts[word] +=ffg\n",
        "    h\n",
        "     1\n",
        "  else:\n",
        "    counts[word] = 1\n",
        "  word = input(\"Please input a word:\")\n",
        "\n",
        "print(counts)\n"
      ],
      "metadata": {
        "id": "cbpWCLjp4EAY"
      },
      "execution_count": null,
      "outputs": []
    },
    {
      "cell_type": "markdown",
      "source": [
        "# **Parking Garage: calcFee Function**"
      ],
      "metadata": {
        "id": "ZzrG8f9omkTC"
      }
    },
    {
      "cell_type": "code",
      "source": [
        "def calcFee(hours):\n",
        "  fee = (5 + hours * 2.50)\n",
        "  if fee < 10.0:\n",
        "    fee = 10.0\n",
        "  elif fee >= 20.0:\n",
        "    fee = 20.0\n",
        "  print(f'Parking fee: ${fee}')\n",
        "\n",
        "\n",
        "numberHours = int(input(\"Please input the number of hours parked: \"))\n",
        "calcFee(numberHours)\n"
      ],
      "metadata": {
        "colab": {
          "base_uri": "https://localhost:8080/"
        },
        "id": "1bLde8vImv0f",
        "outputId": "8778e277-57c7-40eb-faa3-ec45dd305ea1"
      },
      "execution_count": null,
      "outputs": [
        {
          "output_type": "stream",
          "name": "stdout",
          "text": [
            "Please input the number of hours parked: 4\n",
            "Parking fee: $15.0\n"
          ]
        }
      ]
    },
    {
      "cell_type": "markdown",
      "source": [
        "# **Recursive Function: String Reversal**"
      ],
      "metadata": {
        "id": "Y0mP8dlc4lwc"
      }
    },
    {
      "cell_type": "code",
      "source": [
        "def reverseStringR(string):\n",
        "  if len(string) <= 1:\n",
        "    return string\n",
        "  else:\n",
        "    return string[-1] + reverseStringR(string[:-1])\n",
        "\n",
        "reverseStringR(\"brandon\")"
      ],
      "metadata": {
        "colab": {
          "base_uri": "https://localhost:8080/",
          "height": 35
        },
        "id": "K_hozBC84qwb",
        "outputId": "cffe39b3-a2fe-440d-a30d-10042eb45915"
      },
      "execution_count": null,
      "outputs": [
        {
          "output_type": "execute_result",
          "data": {
            "text/plain": [
              "'nodnarb'"
            ],
            "application/vnd.google.colaboratory.intrinsic+json": {
              "type": "string"
            }
          },
          "metadata": {},
          "execution_count": 11
        }
      ]
    },
    {
      "cell_type": "markdown",
      "source": [
        "# **Parking Garage: Try - Except**"
      ],
      "metadata": {
        "id": "o0l9yj1NR4FK"
      }
    },
    {
      "cell_type": "code",
      "source": [
        "def calcFee(hours):\n",
        "  fee = (5 + hours * 2.50)\n",
        "  if fee < 10.0:\n",
        "    fee = 10.0\n",
        "  elif fee >= 20.0:\n",
        "    fee = 20.0\n",
        "  print(f'Parking fee: ${fee}')\n",
        "\n",
        "def main():\n",
        "  try:\n",
        "    numberHours = int(input(\"Please input the number of hours parked: \"))\n",
        "    calcFee(numberHours)\n",
        "  except ValueError:\n",
        "    print(\"Invalid Input. Please enter a positive integer (1, 2, 3, etc.)\")\n",
        "  except:\n",
        "    print(\"Unexpected error...\")\n",
        "\n",
        "if __name__ == \"__main__\":\n",
        "  main()\n"
      ],
      "metadata": {
        "colab": {
          "base_uri": "https://localhost:8080/"
        },
        "id": "2sy9Nt8MSGjg",
        "outputId": "7e14e582-942f-4792-fc79-47899b482907"
      },
      "execution_count": null,
      "outputs": [
        {
          "output_type": "stream",
          "name": "stdout",
          "text": [
            "Please input the number of hours parked: 0\n",
            "Parking fee: $10.0\n"
          ]
        }
      ]
    },
    {
      "cell_type": "markdown",
      "source": [
        "# **Greeting Class**"
      ],
      "metadata": {
        "id": "7lf44-vxYGFy"
      }
    },
    {
      "cell_type": "code",
      "source": [
        "class Greeting:\n",
        "  def __init__(self, first, last):\n",
        "    self.first = first\n",
        "    self.last = last\n",
        "  def __str__(self):\n",
        "    return f'{self.first}, {self.last}'\n",
        "  def display(self, formal=False):\n",
        "    if formal:\n",
        "      print(f'Hello {self.first} {self.last}')\n",
        "    else:\n",
        "      print(f'Hi {self.first}')\n",
        "\n",
        "\n",
        "greeting = Greeting(\"Johnny\", \"Appleseed\")\n",
        "greeting.display(formal=False)\n",
        "print(greeting)\n"
      ],
      "metadata": {
        "id": "HabB7rHrYIMX",
        "colab": {
          "base_uri": "https://localhost:8080/"
        },
        "outputId": "6d03d1c2-30d7-4e95-cd2c-59400ca78c5f"
      },
      "execution_count": null,
      "outputs": [
        {
          "output_type": "stream",
          "name": "stdout",
          "text": [
            "Hi Johnny\n",
            "Johnny,Appleseed\n"
          ]
        }
      ]
    },
    {
      "cell_type": "markdown",
      "source": [
        "# **Student Class**"
      ],
      "metadata": {
        "id": "CYCEwXAWTlYQ"
      }
    },
    {
      "cell_type": "code",
      "source": [
        "class Student:\n",
        "  def __init__(self, name, number):\n",
        "    self.name = name\n",
        "    self.number = number\n",
        "    self.courses = []\n",
        "  def enroll(self, course):\n",
        "    if course not in self.courses:\n",
        "      self.courses.append(course)\n",
        "    else:\n",
        "      print(f'{course} is already enrolled.')\n",
        "\n",
        "  def get_courses(self):\n",
        "    return self.courses\n",
        "\n",
        "s1 = Student('Bob', 100)\n",
        "s2 = Student('Alice', 101)\n",
        "s1.name, s2.name\n",
        "s1.enroll('BTE320')\n",
        "s1.enroll('BTE422')\n",
        "s1.courses\n",
        "s1.get_courses()"
      ],
      "metadata": {
        "id": "K-rsC9xbTn4R",
        "colab": {
          "base_uri": "https://localhost:8080/"
        },
        "outputId": "5a70c3dc-0d7f-4b65-9ea9-ee47c02e1cec"
      },
      "execution_count": null,
      "outputs": [
        {
          "output_type": "execute_result",
          "data": {
            "text/plain": [
              "['BTE320', 'BTE422']"
            ]
          },
          "metadata": {},
          "execution_count": 2
        }
      ]
    },
    {
      "cell_type": "code",
      "source": [
        "s1.enroll('BTE320')\n",
        "s1.enroll('BTE422')"
      ],
      "metadata": {
        "colab": {
          "base_uri": "https://localhost:8080/"
        },
        "id": "i0zttDwMVC05",
        "outputId": "e30426f3-8371-4070-de5b-8511c95138db"
      },
      "execution_count": null,
      "outputs": [
        {
          "output_type": "stream",
          "name": "stdout",
          "text": [
            "BTE320 is already enrolled.\n",
            "BTE422 is already enrolled.\n"
          ]
        }
      ]
    },
    {
      "cell_type": "code",
      "source": [
        "s1.courses"
      ],
      "metadata": {
        "colab": {
          "base_uri": "https://localhost:8080/"
        },
        "id": "0K5qcjLaVE8D",
        "outputId": "d62f01ee-8d79-4149-c9e2-2473e22e57b2"
      },
      "execution_count": null,
      "outputs": [
        {
          "output_type": "execute_result",
          "data": {
            "text/plain": [
              "['BTE320', 'BTE422']"
            ]
          },
          "metadata": {},
          "execution_count": 4
        }
      ]
    },
    {
      "cell_type": "code",
      "source": [
        "s1.get_courses()"
      ],
      "metadata": {
        "colab": {
          "base_uri": "https://localhost:8080/"
        },
        "id": "kBxbTfxoVKEj",
        "outputId": "713088c8-958e-4859-8a63-3ae80f66ec88"
      },
      "execution_count": null,
      "outputs": [
        {
          "output_type": "execute_result",
          "data": {
            "text/plain": [
              "['BTE320', 'BTE422']"
            ]
          },
          "metadata": {},
          "execution_count": 5
        }
      ]
    },
    {
      "cell_type": "markdown",
      "source": [
        "# **Point Class**"
      ],
      "metadata": {
        "id": "e8sXU_9hb2Xd"
      }
    },
    {
      "cell_type": "code",
      "source": [
        "import math\n",
        "\n",
        "class Point:\n",
        "  def __init__ (self, x, y):\n",
        "    self.x = x\n",
        "    self.y = y\n",
        "  def distance(self, other):\n",
        "    return math.sqrt((self.x - other.x) ** 2 + (self.y - other.y) ** 2)\n",
        "\n",
        "c = Point(3,4)\n",
        "d = Point(0,0)\n",
        "c.distance(d)\n"
      ],
      "metadata": {
        "colab": {
          "base_uri": "https://localhost:8080/"
        },
        "id": "YmHmYBnBb5qC",
        "outputId": "cca85eeb-6750-42f8-8eb6-b9e39334d4db"
      },
      "execution_count": null,
      "outputs": [
        {
          "output_type": "execute_result",
          "data": {
            "text/plain": [
              "5.0"
            ]
          },
          "metadata": {},
          "execution_count": 2
        }
      ]
    },
    {
      "cell_type": "markdown",
      "source": [
        "# **Rectangle Class**"
      ],
      "metadata": {
        "id": "AL9i4RatesCN"
      }
    },
    {
      "cell_type": "code",
      "source": [
        "class Rectangle:\n",
        "  def __init__(self):\n",
        "    self.c1 = Point(0,0)\n",
        "    self.c2 = Point(0,2)\n",
        "    self.c3 = Point(2,0)\n",
        "    self.c4 = Point(2,2)\n",
        "  def calculate_width(self):\n",
        "    return self.c1.distance(self.c2)\n",
        "  def calculate_length(self):\n",
        "    return self.c1.distance(self.c3)\n",
        "  def area(self):\n",
        "    return self.calculate_width() * self.calculate_length()\n",
        "\n",
        "\n",
        "square = Rectangle()\n",
        "square.area()\n"
      ],
      "metadata": {
        "id": "qBMU_5-Leu4z",
        "colab": {
          "base_uri": "https://localhost:8080/"
        },
        "outputId": "bccbe9ad-e488-4da9-9441-05a79a2d8b47"
      },
      "execution_count": null,
      "outputs": [
        {
          "output_type": "execute_result",
          "data": {
            "text/plain": [
              "4.0"
            ]
          },
          "metadata": {},
          "execution_count": 5
        }
      ]
    }
  ]
}
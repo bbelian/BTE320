{
  "nbformat": 4,
  "nbformat_minor": 0,
  "metadata": {
    "colab": {
      "provenance": [],
      "authorship_tag": "ABX9TyOqyyfxl8MZdzm+3B/r9MlR",
      "include_colab_link": true
    },
    "kernelspec": {
      "name": "python3",
      "display_name": "Python 3"
    },
    "language_info": {
      "name": "python"
    }
  },
  "cells": [
    {
      "cell_type": "markdown",
      "metadata": {
        "id": "view-in-github",
        "colab_type": "text"
      },
      "source": [
        "<a href=\"https://colab.research.google.com/github/bbelian/BTE320/blob/main/in_class_assignments.ipynb\" target=\"_parent\"><img src=\"https://colab.research.google.com/assets/colab-badge.svg\" alt=\"Open In Colab\"/></a>"
      ]
    },
    {
      "cell_type": "markdown",
      "source": [
        "# **Area of a Cylinder Program**"
      ],
      "metadata": {
        "id": "WEhe37C9rh9E"
      }
    },
    {
      "cell_type": "code",
      "execution_count": 2,
      "metadata": {
        "colab": {
          "base_uri": "https://localhost:8080/"
        },
        "id": "9wgjfRYko8d2",
        "outputId": "8dd3b60b-fa15-4fec-cf36-0f7d0430b3fd"
      },
      "outputs": [
        {
          "output_type": "stream",
          "name": "stdout",
          "text": [
            "Please input your radius: 4\n",
            "Please input your height: 3\n",
            "The area of the cylinder is 175.84 sq. ft\n"
          ]
        }
      ],
      "source": [
        "pi = 3.14\n",
        "radius = int(input(\"Please input your radius: \"))\n",
        "height = int(input(\"Please input your height: \"))\n",
        "area = ((2*pi*radius**2) + (2 * pi * radius * height))\n",
        "print (f\"The area of the cylinder is {area} sq. ft\")"
      ]
    }
  ]
}